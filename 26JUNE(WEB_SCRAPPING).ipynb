{
 "cells": [
  {
   "cell_type": "code",
   "execution_count": 1,
   "metadata": {},
   "outputs": [
    {
     "data": {
      "text/plain": [
       "'C:\\\\Users\\\\AMAN'"
      ]
     },
     "execution_count": 1,
     "metadata": {},
     "output_type": "execute_result"
    }
   ],
   "source": [
    "#import os\n",
    "#os.getcwd()"
   ]
  },
  {
   "cell_type": "code",
   "execution_count": 2,
   "metadata": {},
   "outputs": [],
   "source": [
    "#os.chdir('C:\\\\Users\\\\AMAN\\\\music1')"
   ]
  },
  {
   "cell_type": "code",
   "execution_count": 3,
   "metadata": {},
   "outputs": [
    {
     "data": {
      "text/plain": [
       "'C:\\\\Users\\\\AMAN\\\\music1'"
      ]
     },
     "execution_count": 3,
     "metadata": {},
     "output_type": "execute_result"
    }
   ],
   "source": [
    "#os.getcwd()"
   ]
  },
  {
   "cell_type": "code",
   "execution_count": 4,
   "metadata": {},
   "outputs": [
    {
     "name": "stdout",
     "output_type": "stream",
     "text": [
      "enter the song number:2\n"
     ]
    }
   ],
   "source": [
    "#os.listdir()\n",
    "#a=input(\"enter the song number:\")\n",
    "#import random\n",
    "#file=random.choice(os.listdir())\n",
    "#os.startfile(file)"
   ]
  },
  {
   "cell_type": "code",
   "execution_count": 5,
   "metadata": {},
   "outputs": [],
   "source": [
    "#import webbrowser"
   ]
  },
  {
   "cell_type": "code",
   "execution_count": 6,
   "metadata": {},
   "outputs": [
    {
     "data": {
      "text/plain": [
       "True"
      ]
     },
     "execution_count": 6,
     "metadata": {},
     "output_type": "execute_result"
    }
   ],
   "source": [
    "#webbrowser.open('google.com')"
   ]
  },
  {
   "cell_type": "code",
   "execution_count": 7,
   "metadata": {},
   "outputs": [
    {
     "data": {
      "text/plain": [
       "0"
      ]
     },
     "execution_count": 7,
     "metadata": {},
     "output_type": "execute_result"
    }
   ],
   "source": [
    "#import os\n",
    "#os.system('notepad')"
   ]
  },
  {
   "cell_type": "code",
   "execution_count": 8,
   "metadata": {},
   "outputs": [
    {
     "data": {
      "text/plain": [
       "0"
      ]
     },
     "execution_count": 8,
     "metadata": {},
     "output_type": "execute_result"
    }
   ],
   "source": [
    "#os.system('calc')"
   ]
  },
  {
   "cell_type": "code",
   "execution_count": 9,
   "metadata": {},
   "outputs": [
    {
     "data": {
      "text/plain": [
       "0"
      ]
     },
     "execution_count": 9,
     "metadata": {},
     "output_type": "execute_result"
    }
   ],
   "source": [
    "#os.system('cmd')"
   ]
  },
  {
   "cell_type": "code",
   "execution_count": 2,
   "metadata": {},
   "outputs": [],
   "source": [
    "import urllib.request as req\n",
    "import bs4"
   ]
  },
  {
   "cell_type": "code",
   "execution_count": 4,
   "metadata": {},
   "outputs": [
    {
     "name": "stdout",
     "output_type": "stream",
     "text": [
      "enter product name: oppo\n"
     ]
    }
   ],
   "source": [
    "prod= input('enter product name: ')\n",
    "prod=prod.replace(' ','%20')\n",
    "link='https://www.flipkart.com/search?q='+prod\n",
    "htres1=req.urlopen(link)\n",
    "page1=bs4.BeautifulSoup(htres1)"
   ]
  },
  {
   "cell_type": "code",
   "execution_count": 5,
   "metadata": {},
   "outputs": [
    {
     "name": "stdout",
     "output_type": "stream",
     "text": [
      "OPPO A3s (Purple, 64 GB) \n",
      "price: ₹10,990 \n",
      "rating: 4.3 \n",
      "\n",
      "highlights:-\n",
      "\n",
      "4 GB RAM | 64 GB ROM | Expandable Upto 256 GB\n",
      "15.75 cm (6.2 inch) HD+ Display\n",
      "13MP + 2MP | 8MP Front Camera\n",
      "4230 mAh Battery\n",
      "Qualcomm Snapdragon 450 Processor\n",
      "Brand Warranty of 1 Year Available for Mobile and 6 Months for Accessories\n"
     ]
    }
   ],
   "source": [
    "title=page1.find('div',class_='_3wU53n')\n",
    "price=page1.find('div',class_='_2rQ-NK')\n",
    "rating=page1.find('div',class_='hGSR34')\n",
    "highlight0=page1.find('ul',class_='vFw0gD')\n",
    "highlight=highlight0.find_all('li',class_='tVe95H')\n",
    "print(title.text,'\\nprice:',price.text,'\\nrating:',rating.text,'\\n\\nhighlights:-\\n',)\n",
    "for i in highlight:\n",
    "    print(i.text)"
   ]
  },
  {
   "cell_type": "code",
   "execution_count": 16,
   "metadata": {},
   "outputs": [
    {
     "name": "stdout",
     "output_type": "stream",
     "text": [
      "OPPO A3s (Purple, 64 GB) \n",
      "price: ₹10,990 \n",
      "rating: 4.3 \n",
      "\n",
      "highlights:-\n",
      "\n",
      "4 GB RAM | 64 GB ROM | Expandable Upto 256 GB\n",
      "15.75 cm (6.2 inch) HD+ Display\n",
      "13MP + 2MP | 8MP Front Camera\n",
      "4230 mAh Battery\n",
      "Qualcomm Snapdragon 450 Processor\n",
      "Brand Warranty of 1 Year Available for Mobile and 6 Months for Accessories\n"
     ]
    }
   ],
   "source": [
    "print(title.text,'\\nprice:',price.text,'\\nrating:',rating.text,'\\n\\nhighlights:-\\n',)\n",
    "for i in highlight:\n",
    "    print(i.text)"
   ]
  },
  {
   "cell_type": "code",
   "execution_count": null,
   "metadata": {},
   "outputs": [],
   "source": [
    "\n",
    "\n"
   ]
  },
  {
   "cell_type": "code",
   "execution_count": 68,
   "metadata": {},
   "outputs": [
    {
     "name": "stdout",
     "output_type": "stream",
     "text": [
      "enter the movie name : avengers endgame\n",
      "https://www.imdb.com/find?ref_=nv_sr_fn&q=avengers%20endgame\n"
     ]
    }
   ],
   "source": [
    "import urllib.request as req\n",
    "import bs4\n",
    "mov=input('enter the movie name : ')\n",
    "link='https://www.imdb.com/find?ref_=nv_sr_fn&q='+mov\n",
    "link=link.replace(' ','%20')\n",
    "print(link)"
   ]
  },
  {
   "cell_type": "code",
   "execution_count": 69,
   "metadata": {},
   "outputs": [],
   "source": [
    "htresp=req.urlopen(link)\n",
    "page=bs4.BeautifulSoup(htresp)\n",
    "movie_list=page.find('table',class_='findList')\n",
    "findname = movie_list.find_all('tr')"
   ]
  },
  {
   "cell_type": "code",
   "execution_count": 70,
   "metadata": {},
   "outputs": [
    {
     "data": {
      "text/plain": [
       "'\\n     Avengers: Endgame (2019)       Avengers Endgame (2019) (TV Episode) - Film Companion: Movie Reviews (2014) (TV Mini-Series)        Avengers: Endgame (2019) (TV Episode)  - Season 4 | Episode 11  - Caillou Pettis Movie Reviews (2016) (TV Series)        Avengers: Endgame and the Latest Captain Marvel Outrage!! (2019) (Video)       Avengers Endgame: the Butt Plan (2019) (Video)       Avengers: Endgame - Spoiler Review (2019) (TV Episode)  - Season 9 | Episode 23  - Chris Stuckmann Movie Reviews (2011) (TV Series)        Avengers: Endgame (2019) (TV Episode)  - Season 3 | Episode 32  - Screen Rant Pitch Meetings (2017) (TV Series)        Avengers: Endgame (2019) (TV Episode)  - Season 3 | Episode 17  - Tamara Just Saw (2017) (TV Series)   '"
      ]
     },
     "execution_count": 70,
     "metadata": {},
     "output_type": "execute_result"
    }
   ],
   "source": [
    "movie_list.text"
   ]
  },
  {
   "cell_type": "code",
   "execution_count": 89,
   "metadata": {},
   "outputs": [
    {
     "name": "stdout",
     "output_type": "stream",
     "text": [
      "\n",
      "list of movies acc. to your search\n",
      "0      Avengers: Endgame (2019)  \n",
      "1      Avengers Endgame (2019) (TV Episode) - Film Companion: Movie Reviews (2014) (TV Mini-Series)   \n",
      "2      Avengers: Endgame (2019) (TV Episode)  - Season 4 | Episode 11  - Caillou Pettis Movie Reviews (2016) (TV Series)   \n",
      "3      Avengers: Endgame and the Latest Captain Marvel Outrage!! (2019) (Video)  \n",
      "4      Avengers Endgame: the Butt Plan (2019) (Video)  \n",
      "5      Avengers: Endgame - Spoiler Review (2019) (TV Episode)  - Season 9 | Episode 23  - Chris Stuckmann Movie Reviews (2011) (TV Series)   \n",
      "6      Avengers: Endgame (2019) (TV Episode)  - Season 3 | Episode 32  - Screen Rant Pitch Meetings (2017) (TV Series)   \n",
      "7      Avengers: Endgame (2019) (TV Episode)  - Season 3 | Episode 17  - Tamara Just Saw (2017) (TV Series)   \n",
      "\n",
      "enter the index of particaular movie :0\n",
      "your choice :      Avengers: Endgame (2019)   \n",
      "\n",
      "all details are:\n",
      "\n",
      "title:\n",
      "      Avengers: Endgame (2019)  \n",
      "\n",
      "Rating\n",
      ":  <div class=\"ratingValue\">\n",
      "<strong title=\"8.7 based on 457,637 user ratings\"><span itemprop=\"ratingValue\">8.7</span></strong><span class=\"grey\">/</span><span class=\"grey\" itemprop=\"bestRating\">10</span> </div>\n",
      "\n",
      "\n",
      "summary:\n",
      "    After the devastating events of Avengers: Infinity War (2018), the universe is in ruins. With the help of remaining allies, the Avengers assemble once more in order to reverse Thanos' actions and restore balance to the universe.\n",
      "            \n",
      "\n",
      "Directors:\n",
      "Anthony Russo, Joe Russo \n",
      "\n",
      "Writers:\n",
      "Christopher Markus (screenplay by), Stephen McFeely (screenplay by)            |\n",
      "3 more credits »\n",
      "    \n",
      "\n",
      "Stars:\n",
      "Robert Downey Jr., Chris Evans, Mark Ruffalo |\n",
      "See full cast & crew »\n",
      "    \n",
      "\n",
      "reviews are :   A love letter to everything the MCU has built since 2008. Thanks Kevin Feige, Thanks Joe and Anthony Russo !!\n"
     ]
    }
   ],
   "source": [
    "j=0\n",
    "list1=[]\n",
    "print(\"\\nlist of movies acc. to your search\")\n",
    "for i in findname:\n",
    "    print(j,i.text)\n",
    "    j=j+1\n",
    "    list1.append(i.text)\n",
    "index = int(input(\"\\nenter the index of particaular movie :\"))\n",
    "print(\"your choice :\",list1[index],'\\n')\n",
    "j=0\n",
    "for i in findname:\n",
    "    if j== index:\n",
    "        atag= i.find('a')\n",
    "        break\n",
    "    j=j+1\n",
    "link1 = \"https://www.imdb.com\"+atag['href']\n",
    "htres1 = req.urlopen(link1)\n",
    "page1=bs4.BeautifulSoup(htres1)\n",
    "rating = page1.find('div',class_='ratingValue')\n",
    "print(\"all details are:\\n\")\n",
    "print('title:\\n',list1[index])\n",
    "print(\"\\nRating\\n: \", rating)\n",
    "summ=page1.find('div',class_='plot_summary')\n",
    "summ=summ.text.replace('                ','summary:\\n')\n",
    "print(summ)\n",
    "reviews=page1.find('div',class_='user-comments')\n",
    "para = reviews.find('p')\n",
    "print(\"reviews are :  \",para.text)\n",
    "    "
   ]
  },
  {
   "cell_type": "code",
   "execution_count": null,
   "metadata": {},
   "outputs": [],
   "source": [
    "email=input(\"enter the email: \")"
   ]
  }
 ],
 "metadata": {
  "kernelspec": {
   "display_name": "Python 3",
   "language": "python",
   "name": "python3"
  },
  "language_info": {
   "codemirror_mode": {
    "name": "ipython",
    "version": 3
   },
   "file_extension": ".py",
   "mimetype": "text/x-python",
   "name": "python",
   "nbconvert_exporter": "python",
   "pygments_lexer": "ipython3",
   "version": "3.7.3"
  }
 },
 "nbformat": 4,
 "nbformat_minor": 2
}
